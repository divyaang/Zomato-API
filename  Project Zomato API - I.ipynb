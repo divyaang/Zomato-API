{
 "cells": [
  {
   "cell_type": "code",
   "execution_count": 1,
   "metadata": {},
   "outputs": [],
   "source": [
    "# API Key: 35e7ebfd8dc6b439a60648c94802ceb8"
   ]
  },
  {
   "cell_type": "markdown",
   "metadata": {},
   "source": [
    "## Zomato Cuisine 1.1"
   ]
  },
  {
   "cell_type": "code",
   "execution_count": 2,
   "metadata": {},
   "outputs": [
    {
     "name": "stdout",
     "output_type": "stream",
     "text": [
      "73\n"
     ]
    }
   ],
   "source": [
    "'''\n",
    "To solve this question I found out the list of cuisines in any random city and then searched for \"Mexican\".\n",
    "Is there any other way of doing this question? \n",
    "I did not find any API which returned the cusine_id on giving the cuisine name as parameter.\n",
    "'''\n",
    "\n",
    "print(73)"
   ]
  },
  {
   "cell_type": "markdown",
   "metadata": {},
   "source": [
    "## Zomato Cuisine 1.3"
   ]
  },
  {
   "cell_type": "code",
   "execution_count": 16,
   "metadata": {},
   "outputs": [
    {
     "name": "stdout",
     "output_type": "stream",
     "text": [
      "subzone 104\n"
     ]
    }
   ],
   "source": [
    "import requests\n",
    "\n",
    "data = {'lat':'28.6304', 'lon':'77.2177'}\n",
    "p = requests.get('https://developers.zomato.com/api/v2.1/geocode', params = data, headers = {'user-key':'35e7ebfd8dc6b439a60648c94802ceb8'})\n",
    "r = p.json()\n",
    "r\n",
    "print(r['location']['entity_type'],r['location']['entity_id'])"
   ]
  },
  {
   "cell_type": "markdown",
   "metadata": {},
   "source": [
    "## Zomato Cuisine 1.4"
   ]
  },
  {
   "cell_type": "code",
   "execution_count": 40,
   "metadata": {},
   "outputs": [
    {
     "name": "stdout",
     "output_type": "stream",
     "text": [
      "Farzi Cafe 4.5 18233593\n",
      "Chili's Grill & Bar 4.5 18537536\n",
      "Ministry Of Beer 4.3 18418277\n",
      "Xero Degrees 4.3 18729557\n",
      "Unplugged Courtyard 4.2 18216901\n",
      "Pebble Street 4.2 309859\n",
      "The Beer Cafe - BIGGIE 4.2 307060\n",
      "Chaayos - Meri Wali Chai 4.2 18237315\n",
      "Rodeo Cantina & Kitchen 4.1 18673403\n",
      "38 Barracks 4.1 18241537\n"
     ]
    }
   ],
   "source": [
    "import requests\n",
    "\n",
    "data = {'entity_id':104, 'entity_type':'subzone', 'cuisines':'73', 'sort':'rating', 'order':'desc'}\n",
    "p = requests.get('https://developers.zomato.com/api/v2.1/search', params = data, \n",
    "                 headers = {'user-key':'35e7ebfd8dc6b439a60648c94802ceb8'})\n",
    "l = p.json()\n",
    "rl = l['restaurants']\n",
    "\n",
    "for i in range(0,10):\n",
    "    print(rl[i]['restaurant']['name'], rl[i]['restaurant']['user_rating']['aggregate_rating'],\n",
    "         rl[i]['restaurant']['id'])\n",
    "    "
   ]
  },
  {
   "cell_type": "markdown",
   "metadata": {},
   "source": [
    "## Zomato Cuisine 1.5"
   ]
  },
  {
   "cell_type": "code",
   "execution_count": 45,
   "metadata": {},
   "outputs": [
    {
     "name": "stdout",
     "output_type": "stream",
     "text": [
      "6\n"
     ]
    }
   ],
   "source": [
    "import requests\n",
    "\n",
    "p = requests.get('https://developers.zomato.com/api/v2.1/categories',headers = {'user-key':'35e7ebfd8dc6b439a60648c94802ceb8'})\n",
    "c = p.json()\n",
    "cl = c['categories']\n",
    "\n",
    "for x in cl:\n",
    "    if x['categories']['name'] == 'Cafes':\n",
    "        print(x['categories']['id'])\n",
    "        break"
   ]
  },
  {
   "cell_type": "markdown",
   "metadata": {},
   "source": [
    "## Zomato Cuisine 1.6"
   ]
  },
  {
   "cell_type": "code",
   "execution_count": 1,
   "metadata": {},
   "outputs": [
    {
     "name": "stdout",
     "output_type": "stream",
     "text": [
      "Xero Degrees 4.3 18729557\n",
      "Chaayos - Meri Wali Chai 4.2 18237315\n",
      "The Art House Bar n Cafe 3.9 18863766\n",
      "Cafe Coffee Day - The Square 3.5 303034\n"
     ]
    }
   ],
   "source": [
    "import requests\n",
    "\n",
    "data = {'entity_id':104, 'entity_type':'subzone', 'cuisines':'73', 'sort':'rating', 'order':'desc', 'category':'6'}\n",
    "p = requests.get('https://developers.zomato.com/api/v2.1/search', params = data, \n",
    "                 headers = {'user-key':'35e7ebfd8dc6b439a60648c94802ceb8'})\n",
    "l = p.json()\n",
    "rl = l['restaurants']\n",
    "\n",
    "for i in range(4):\n",
    "    print(rl[i]['restaurant']['name'], rl[i]['restaurant']['user_rating']['aggregate_rating'],\n",
    "         rl[i]['restaurant']['id'])\n",
    "    "
   ]
  },
  {
   "cell_type": "markdown",
   "metadata": {},
   "source": [
    "## Zomato Cuisine 1.7"
   ]
  },
  {
   "cell_type": "code",
   "execution_count": 3,
   "metadata": {},
   "outputs": [
    {
     "name": "stdout",
     "output_type": "stream",
     "text": [
      "Hometofoodworld 3 So , I heard a-lot about this place, majorly about its long waiting queues . And to be very true queue is just because they have very less seating area.  The food and ambiance is Unique in its own way but needs to be improved. So we ordered their mains- Paneer tri color sliders, Red Velvet Shake , Watermelon Mojito , chicken wings , cheesy fries and small pizza. Overall taste is good but more emphasised on presentation rather than taste and quantity.\n",
      "Rashika Raina 4 \n",
      "Shreya Munjal 5 \n",
      "Sakshi 4 Amazing place with  affordable price  and an amazing menu with nice presentation. Ambience is also good There is usually rush in the area as the capacity to hold the guest is very small still then people wait in long queues just to eat at this cafe. The taste and the quality is just fantastic. I will highly recommend this cafe situated in Connaught place Delhi.\n",
      "Sahil Rawal 5 \n"
     ]
    }
   ],
   "source": [
    "#id: 18729557\n",
    "import requests\n",
    "\n",
    "data = {'res_id':'18729557'}\n",
    "p = requests.get('https://developers.zomato.com/api/v2.1/reviews', params = data, \n",
    "                 headers = {'user-key':'35e7ebfd8dc6b439a60648c94802ceb8'})\n",
    "l = p.json()\n",
    "l = l['user_reviews']\n",
    "\n",
    "for r in l:\n",
    "    print(r['review']['user']['name'], r['review']['rating'], r['review']['review_text'])"
   ]
  },
  {
   "cell_type": "markdown",
   "metadata": {},
   "source": [
    "## Zomato Restaurant 2.2"
   ]
  },
  {
   "cell_type": "code",
   "execution_count": 9,
   "metadata": {},
   "outputs": [
    {
     "name": "stdout",
     "output_type": "stream",
     "text": [
      "4.9\n",
      "2500\n",
      "Asian, Chinese, Thai, Japanese\n",
      "A-3, Select Citywalk, District Centre, Saket, New Delhi\n"
     ]
    }
   ],
   "source": [
    "import requests\n",
    "\n",
    "data = {'q':'Pa Pa Ya'}\n",
    "p = requests.get('https://developers.zomato.com/api/v2.1/search', params = data, \n",
    "                 headers = {'user-key':'35e7ebfd8dc6b439a60648c94802ceb8'})\n",
    "l = p.json()\n",
    "rl = l['restaurants'][0]\n",
    "print(rl['restaurant']['user_rating']['aggregate_rating'])\n",
    "print(rl['restaurant']['average_cost_for_two'])\n",
    "print(rl['restaurant']['cuisines'])\n",
    "#print(rl['restaurant']['id'])\n",
    "print(rl['restaurant']['location']['address'])\n",
    "    "
   ]
  },
  {
   "cell_type": "markdown",
   "metadata": {},
   "source": [
    "## Zomato Restaurant 2.3"
   ]
  },
  {
   "cell_type": "code",
   "execution_count": 10,
   "metadata": {},
   "outputs": [
    {
     "name": "stdout",
     "output_type": "stream",
     "text": [
      "yes\n"
     ]
    }
   ],
   "source": [
    "import requests\n",
    "\n",
    "data = {'q':'Pa Pa Ya'}\n",
    "p = requests.get('https://developers.zomato.com/api/v2.1/search', params = data, \n",
    "                 headers = {'user-key':'35e7ebfd8dc6b439a60648c94802ceb8'})\n",
    "l = p.json()\n",
    "rl = l['restaurants'][0]\n",
    "ans = int(rl['restaurant']['is_table_reservation_supported'])\n",
    "if ans == 1:\n",
    "    print('yes')\n",
    "else:\n",
    "    print('no')"
   ]
  },
  {
   "cell_type": "markdown",
   "metadata": {},
   "source": [
    "## Zomato Restaurant 2.4"
   ]
  },
  {
   "cell_type": "code",
   "execution_count": 16,
   "metadata": {},
   "outputs": [
    {
     "name": "stdout",
     "output_type": "stream",
     "text": [
      "Anushri Tripathi 5 \n",
      "TheProud_Glutton 5 The best place to try so many different types of dimsums😋\n",
      "Simon 4 Great Ambiance, Lovely staff members, Delighted with the quality of food and the presentation. Would surely come back for more.\n",
      "Twofoodieforks 4 \n",
      "Sreekanth S 5 \n"
     ]
    }
   ],
   "source": [
    "import requests\n",
    "\n",
    "data = {'res_id':'18429148'}\n",
    "p = requests.get('https://developers.zomato.com/api/v2.1/reviews', params = data, \n",
    "                 headers = {'user-key':'35e7ebfd8dc6b439a60648c94802ceb8'})\n",
    "l = p.json()\n",
    "l = l['user_reviews']\n",
    "\n",
    "for r in l:\n",
    "    print(r['review']['user']['name'], r['review']['rating'], r['review']['review_text'])"
   ]
  },
  {
   "cell_type": "code",
   "execution_count": 17,
   "metadata": {},
   "outputs": [
    {
     "data": {
      "text/plain": [
       "'\\nCN \\nlat: 28.697972\\nlon: 77.140573\\n'"
      ]
     },
     "execution_count": 17,
     "metadata": {},
     "output_type": "execute_result"
    }
   ],
   "source": [
    "'''\n",
    "CN \n",
    "lat: 28.697972\n",
    "lon: 77.140573\n",
    "'''"
   ]
  },
  {
   "cell_type": "markdown",
   "metadata": {},
   "source": [
    "## Zomato distance 3.1"
   ]
  },
  {
   "cell_type": "code",
   "execution_count": 23,
   "metadata": {},
   "outputs": [
    {
     "name": "stdout",
     "output_type": "stream",
     "text": [
      "193\n"
     ]
    }
   ],
   "source": [
    "import requests\n",
    "\n",
    "data = {'city_id':1}\n",
    "p = requests.get('https://developers.zomato.com/api/v2.1/cuisines', params = data, \n",
    "                 headers = {'user-key':'35e7ebfd8dc6b439a60648c94802ceb8'})\n",
    "l = p.json()\n",
    "l = l['cuisines']\n",
    "\n",
    "for c in l:\n",
    "    if c['cuisine']['cuisine_name'] == 'BBQ':\n",
    "        print(c['cuisine']['cuisine_id'])\n",
    "        break"
   ]
  },
  {
   "cell_type": "markdown",
   "metadata": {},
   "source": [
    "## Zomato distance 3.2"
   ]
  },
  {
   "cell_type": "code",
   "execution_count": 53,
   "metadata": {},
   "outputs": [
    {
     "name": "stdout",
     "output_type": "stream",
     "text": [
      "Themis Barbecue House 4.2 18204820 Netaji Subhash Place\n",
      "Barbeque Nation 4.5 9561 Netaji Subhash Place\n",
      "New Bombay Bar-Be-Que 3.4 5303 Prashant Vihar\n",
      "Amazings Kitchen 0 19370424 Prashant Vihar\n",
      "Moet's Barbeque 0 19238917 Alipur\n",
      "UBQ by Barbeque Nation 3.1 18889760 Rohini\n",
      "Kays Bar-Be-Que 3.9 3079 Ashok Vihar Phase 1\n",
      "Chicken Adda 0 19179179 Rohini\n",
      "7teen BBQ Bistro Bnq 3.9 18595610 Moti Nagar\n",
      "Pishori Chicken 0 19061375 Kirti Nagar\n"
     ]
    }
   ],
   "source": [
    "import requests\n",
    "\n",
    "data = {'count':10, 'lat':28.697972, 'lon':77.140573, 'cuisines': 193 , 'sort': 'real_distance', 'order': 'asc'}\n",
    "p = requests.get('https://developers.zomato.com/api/v2.1/search', params = data, \n",
    "                 headers = {'user-key':'35e7ebfd8dc6b439a60648c94802ceb8'})\n",
    "l = p.json()\n",
    "l = l['restaurants']\n",
    "\n",
    "for r in l:\n",
    "    print(r['restaurant']['name'], r['restaurant']['user_rating']['aggregate_rating'],\n",
    "          r['restaurant']['id'],r['restaurant']['location']['locality'] )\n",
    "    "
   ]
  },
  {
   "cell_type": "markdown",
   "metadata": {},
   "source": [
    "## Zomato distance 3.3"
   ]
  },
  {
   "cell_type": "code",
   "execution_count": 54,
   "metadata": {},
   "outputs": [
    {
     "name": "stdout",
     "output_type": "stream",
     "text": [
      "Sakshi Sabnani 4 We organized a get together here..ambiance and drinks was good but the food was not upto the mark but if you are going for dine out the food is good..maybe they weren't able to cater the party well.\n",
      "ANNANT VASHIST 5 I celebrated my bday in Themis barbecue . I enjoyed a lot and the staff was really good nd the food is very delicious .\n",
      "Sangeeta Kalita (thatcravingfoodie) 4 Visited them last month. On entering, you realise that the indoor seating area is not that spacious. I wanted to be seated outdoors, but then it's only allowed for dinner time. I wasn't very taken by the ambiance.  Coming to the food, I opted for the non-vegetarian buffet option. For drinks, I chose a litchi based mocktail. You could also go for beer or whisky which I think I should have chosen too, now that I think of it. But there's no use crying over spilled milk now. So coming back to my litchi mocktail, let me say it was awesome. Tart and sweet and zingy. Was a pleasant accompaniment to the starters. I really liked the chilly fish, chicken tikka, crispy corn. Cajun potatoes lacked that kick and mutton seekh was really dry. The paneer tikka too wasn't flavourful enough. And the pizza base was very tough.  The main course was so delicious. I am a manchow soup lover. And I helped myself to bowls of the veg manchow soup. Then I came across chicken hot and sour soup and gobbled that up too. I also tried different salads I think you could and should skip them. The chicken biryani and mutton rogan josh warmed up my soul with their distinctly spiced flavours. The biryani deserves special mention with the overwhelming aroma of whole spices and chunky chicken pieces. The rogan josh curry was hot and spicy and I was satisfied then and there. Nevertheless, greed occupied me again while going through other dishes and this time I helped myself to hakka chowmein and stir fried veggies in basil chilly sauce (yeah it's veg. Don't be surprised). The veggie gravy was utterly savoury and had so much going on. Sweet, sour, salty, that fresh basil hit. And by then I realised I was almost full and had to end my main course eating spree.  Coming to desserts, gulab jamuns were soul warming. The chocolate pastry was lush and bitter and kept me wanting more. The tarts were creamy and crumbley. Delicious. Moong dal halwa was all ghee and nuts and heavenly. And the strawberry ice cream was creamy and screamed fresh strawberries and not the artificial colour and flavour stuff.  Overall, it was a decent experience. Although I think cutting out the live music part during afternoons wouldn't be a bad idea afterall. It felt kinda loud and claustrophobic. The service was not bad. The prices were moderate. I paid 1300+ for two non-veg lunch buffets.\n",
      "Medhavi 5 Enjoyed a wide range of dishes at this buffet outlet with aesthetic interiors and designer exteriors. Scrumptious barbeque starters with grilled chicken,fish tikka in skewers on the table. Sipped on a variety of mocktails plus the singer was there to entertain throughout our time there. The main course dishes were made very well with excellent sea food, dum biryani , paneer dishes, types of breads and exquisite desserts to choose from namely white chocolate brownie , pineapple pastries , truffle cake and cut fruits. Would definitely recommend to one and all.\n",
      "Piyush Matreja 5 Live singing, spectacular ambience and every one enjoying to the grilled kebabs on their table, that's Themis barbeque all about. Based on the concept of buffet where you start with snacks on the table with cool mocktails. I tried the lemon ice tea and charred prawns tikka as well as chicken malai tikka ,their non veg starters were great. Main course I had mutton rogan josh with lachha parantha and enjoyed a few of my favourite desserts namely strawberry tarts and a chocolate truffle cake with cherries. I must say that was a good lunch I relished after long.\n"
     ]
    }
   ],
   "source": [
    "#id: 18204820\n",
    "import requests\n",
    "\n",
    "data = {'res_id':'18204820'}\n",
    "p = requests.get('https://developers.zomato.com/api/v2.1/reviews', params = data, \n",
    "                 headers = {'user-key':'35e7ebfd8dc6b439a60648c94802ceb8'})\n",
    "l = p.json()\n",
    "l = l['user_reviews']\n",
    "\n",
    "for r in l:\n",
    "    print(r['review']['user']['name'], r['review']['rating'], r['review']['review_text'])"
   ]
  },
  {
   "cell_type": "markdown",
   "metadata": {},
   "source": [
    "## Zomato distance 3.4"
   ]
  },
  {
   "cell_type": "code",
   "execution_count": 2,
   "metadata": {},
   "outputs": [
    {
     "name": "stdout",
     "output_type": "stream",
     "text": [
      "Indian Accent 4.9 2004 The Lodhi, Lodhi Road\n",
      "Cafe Lota 4.9 305525 Pragati Maidan\n",
      "Pa Pa Ya 4.9 18429148 Select Citywalk Mall, Saket\n",
      "The Big Chill 4.9 1614 Khan Market\n",
      "Carnatic Cafe 4.9 7843 Lodhi Colony\n",
      "Kuremal Mohan Lal Kulfi Wale 4.9 303642 Chawri Bazar\n",
      "Dum-Pukht - ITC Maurya 4.9 2744 ITC Maurya, Chanakyapuri\n",
      "Cocktails & Dreams, Speakeasy 4.9 300716 Sector 15\n",
      "The Big Chill 4.9 8244 Khan Market\n",
      "Manhattan Bar & Brewery 4.8 303960 Global Foyer Mall, Golf Course Road\n"
     ]
    }
   ],
   "source": [
    "import requests\n",
    "\n",
    "data = {'count':10, 'lat':28.697972, 'lon':77.140573, 'radius':4000, 'sort': 'rating', 'order': 'desc'}\n",
    "p = requests.get('https://developers.zomato.com/api/v2.1/search', params = data, \n",
    "                 headers = {'user-key':'35e7ebfd8dc6b439a60648c94802ceb8'})\n",
    "l = p.json()\n",
    "l = l['restaurants']\n",
    "\n",
    "for r in l:\n",
    "    print(r['restaurant']['name'], r['restaurant']['user_rating']['aggregate_rating'],\n",
    "          r['restaurant']['id'],r['restaurant']['location']['locality'] )\n",
    "    "
   ]
  },
  {
   "cell_type": "markdown",
   "metadata": {},
   "source": [
    "## Zomato distance 3.5"
   ]
  },
  {
   "cell_type": "code",
   "execution_count": 3,
   "metadata": {},
   "outputs": [
    {
     "name": "stdout",
     "output_type": "stream",
     "text": [
      "no\n"
     ]
    }
   ],
   "source": [
    "print('no')"
   ]
  }
 ],
 "metadata": {
  "kernelspec": {
   "display_name": "Python 3",
   "language": "python",
   "name": "python3"
  },
  "language_info": {
   "codemirror_mode": {
    "name": "ipython",
    "version": 3
   },
   "file_extension": ".py",
   "mimetype": "text/x-python",
   "name": "python",
   "nbconvert_exporter": "python",
   "pygments_lexer": "ipython3",
   "version": "3.7.3"
  }
 },
 "nbformat": 4,
 "nbformat_minor": 2
}
